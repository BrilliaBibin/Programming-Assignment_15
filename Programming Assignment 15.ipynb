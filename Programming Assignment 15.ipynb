{
 "cells": [
  {
   "cell_type": "raw",
   "id": "4d607f1c-f357-4f6b-9cba-7dd636ad4e00",
   "metadata": {},
   "source": [
    "1.Please write a program using generator to print the numbers which can be divisible by 5 and\n",
    "7 between 0 and n in comma separated form while n is input by console.\n",
    "Example:\n",
    "If the following n is given as input to the program:\n",
    "100\n",
    "Then, the output of the program should be:\n",
    "0,35,70"
   ]
  },
  {
   "cell_type": "code",
   "execution_count": 20,
   "id": "34322b6d-3c2d-417a-894d-59e54d0dc3f6",
   "metadata": {},
   "outputs": [
    {
     "name": "stdin",
     "output_type": "stream",
     "text": [
      "enter the input value 100\n"
     ]
    },
    {
     "name": "stdout",
     "output_type": "stream",
     "text": [
      "0,35,70\n"
     ]
    }
   ],
   "source": [
    "def Generator(n):\n",
    "    i=0\n",
    "    while i<=n:\n",
    "        if i%5==0 and i%7==0:\n",
    "            yield i\n",
    "        i+=1\n",
    "\n",
    "\n",
    "n=int(input(\"enter the input value\"))\n",
    "values = []\n",
    "for i in Generator(n):\n",
    "    values.append(str(i))\n",
    "\n",
    "print(\",\".join(values))"
   ]
  },
  {
   "cell_type": "raw",
   "id": "f3db83a6-6a98-4cc9-946e-7bb602221c43",
   "metadata": {},
   "source": [
    "2.Please write a program using generator to print the even numbers between 0 and n in comma\n",
    "separated form while n is input by console.\n",
    "Example:\n",
    "If the following n is given as input to the program:\n",
    "10\n",
    "Then, the output of the program should be:\n",
    "0,2,4,6,8,10"
   ]
  },
  {
   "cell_type": "code",
   "execution_count": 21,
   "id": "8a2b6db1-deab-4804-85ed-ccf1bfb53ca8",
   "metadata": {},
   "outputs": [
    {
     "name": "stdin",
     "output_type": "stream",
     "text": [
      "enter the input value 10\n"
     ]
    },
    {
     "name": "stdout",
     "output_type": "stream",
     "text": [
      "0,2,4,6,8,10\n"
     ]
    }
   ],
   "source": [
    "def EvenGenerator(n):\n",
    "    i=0\n",
    "    while i<=n:\n",
    "        if i%2==0:\n",
    "            yield i\n",
    "        i+=1\n",
    "\n",
    "\n",
    "n=int(input(\"enter the input value\"))\n",
    "values = []\n",
    "for i in EvenGenerator(n):\n",
    "    values.append(str(i))\n",
    "\n",
    "print(\",\".join(values))"
   ]
  },
  {
   "cell_type": "raw",
   "id": "9c00b95e-3932-411a-a48a-7219fffef9b3",
   "metadata": {},
   "source": [
    "3.The Fibonacci Sequence is computed based on the following formula:\n",
    "f(n)=0 if n=0\n",
    "f(n)=1 if n=1\n",
    "f(n)=f(n-1)+f(n-2) if n&gt;1\n",
    "Please write a program using list comprehension to print the Fibonacci Sequence in comma\n",
    "separated form with a given n input by console.\n",
    "Example:\n",
    "If the following n is given as input to the program:\n",
    "7\n",
    "\n",
    "Then, the output of the program should be:\n",
    "0,1,1,2,3,5,8,13"
   ]
  },
  {
   "cell_type": "code",
   "execution_count": 26,
   "id": "520f8a25-913c-4e50-9712-a44a7bbcd87e",
   "metadata": {},
   "outputs": [
    {
     "name": "stdin",
     "output_type": "stream",
     "text": [
      "Enter the input value 7\n"
     ]
    },
    {
     "name": "stdout",
     "output_type": "stream",
     "text": [
      "0,1,1,2,3,5,8,13\n"
     ]
    }
   ],
   "source": [
    "def f(n):\n",
    "    if n == 0: return 0\n",
    "    elif n == 1: return 1\n",
    "    else: return f(n-1)+f(n-2)\n",
    "\n",
    "n=int(input(\"Enter the input value\"))\n",
    "values = [str(f(x)) for x in range(0, n+1)]\n",
    "print(\",\".join(values))"
   ]
  },
  {
   "cell_type": "raw",
   "id": "10810579-a852-4b05-9578-911ae904df56",
   "metadata": {},
   "source": [
    "4.Assuming that we have some email addresses in the \"username@companyname.com\" format,\n",
    "please write program to print the user name of a given email address. Both user names and\n",
    "company names are composed of letters only.\n",
    "Example:\n",
    "If the following email address is given as input to the program:\n",
    "john@google.com\n",
    "Then, the output of the program should be:\n",
    "john"
   ]
  },
  {
   "cell_type": "code",
   "execution_count": 28,
   "id": "d99d7c5d-e70c-4248-8fdb-fd77cd05739c",
   "metadata": {},
   "outputs": [
    {
     "name": "stdin",
     "output_type": "stream",
     "text": [
      " john@google.com\n"
     ]
    },
    {
     "name": "stdout",
     "output_type": "stream",
     "text": [
      "john\n"
     ]
    }
   ],
   "source": [
    "import re\n",
    "emailAddress = input()\n",
    "pat2 = \"(\\w+)@(\\w+)\\.(com)\"\n",
    "r2 = re.match(pat2,emailAddress)\n",
    "print(r2.group(1))"
   ]
  },
  {
   "cell_type": "raw",
   "id": "3f5d1d31-8ac9-4aed-a9d0-d81bcecdc052",
   "metadata": {},
   "source": [
    "5.Define a class named Shape and its subclass Square. The Square class has an init function\n",
    "which takes a length as argument. Both classes have a area function which can print the area\n",
    "of the shape where Shape's area is 0 by default."
   ]
  },
  {
   "cell_type": "code",
   "execution_count": 30,
   "id": "7ea499ff-b677-49a1-8059-e7d9ae79af3c",
   "metadata": {},
   "outputs": [
    {
     "name": "stdout",
     "output_type": "stream",
     "text": [
      "9\n"
     ]
    }
   ],
   "source": [
    "class Shape(object):\n",
    "    def __init__(self):\n",
    "        pass\n",
    "\n",
    "    def area(self):\n",
    "        return 0\n",
    "\n",
    "class Square(Shape):\n",
    "    def __init__(self, l):\n",
    "        Shape.__init__(self)\n",
    "        self.length = l\n",
    "\n",
    "    def area(self):\n",
    "        return self.length*self.length\n",
    "\n",
    "aSquare= Square(3)\n",
    "print(aSquare.area())\n"
   ]
  }
 ],
 "metadata": {
  "kernelspec": {
   "display_name": "Python 3 (ipykernel)",
   "language": "python",
   "name": "python3"
  },
  "language_info": {
   "codemirror_mode": {
    "name": "ipython",
    "version": 3
   },
   "file_extension": ".py",
   "mimetype": "text/x-python",
   "name": "python",
   "nbconvert_exporter": "python",
   "pygments_lexer": "ipython3",
   "version": "3.10.6"
  }
 },
 "nbformat": 4,
 "nbformat_minor": 5
}
